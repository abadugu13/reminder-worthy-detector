{
 "cells": [
  {
   "cell_type": "code",
   "execution_count": 1,
   "metadata": {},
   "outputs": [],
   "source": [
    "import os\n",
    "from pathlib import Path\n",
    "import sys\n",
    "\n",
    "sys.path.append(\"..\")"
   ]
  },
  {
   "cell_type": "code",
   "execution_count": 2,
   "metadata": {},
   "outputs": [
    {
     "data": {
      "text/plain": [
       "\"Ticket number: 176 2363098851\\nScan the bar code or use the ticket number above at \\nthe self check-in points in the airport. Ticket & receipt\\nPassenger name\\nBADUGU/\\nAMOGHMRIssued by / Date\\nAGT 86491845 AE\\n07AUG2023EKWWWWW DUBAI / EMIRATES IBE\\nYour booking reference: KU24AF\\nYour ticket is stored in our booking system. This receipt is your record \\nof your ticket and is part of your conditions of carriage. For more \\ninformation you can read the notices and conditions of contract .\\nYou might need to show this receipt to enter the airport or to prove \\nyour return or onwards travel to immigration.Check with your departure airport for restrictions on the carriage of \\nliquids, aerosols and gels in hand baggage and check your visa \\nrequirements.\\nPlease check our Dangerous Goods information  to find out what you \\ncan and can’t bring on board. Some substances and certain items are \\nrestricted, like portable electronic devices, spare batteries or smart \\nbags.\\n............................................................................................................................................................................................................................................................................................................................................\\nCheck in at the airport. At most\\nairports you need to arrive 3 hours\\nbefore departure, but it can be\\nup to 4 hours  to complete all the\\ntravel requirements. Please check\\nthe best time to arrive for your\\njourney below.If you're checking in bags, drop\\nthem at the Emirates check-\\nin counters no later than 90\\nminutes before your flight.Go through airport security at\\nleast 60 minutes before your\\nflight.Arrive at the boarding gate 45\\nminutes before departure. The\\ngates close 20 minutes before\\nthe flight leaves.\\nYour travel information\\nAll times shown are local for each city\\nDeparting » From Seattle, United States\\nLeg 1of2 | Seattle (SEA) toDubai (DXB) | Operated by Emirates (equipment owner - Emirates)\\nFlight\\nEK230\\nEconomy\\nSaverCheck-in at\\n14Aug2023\\n14:15Departure\\n14Aug2023\\n17:15\\nSEATTLE\\nDeparting SEA, Seattle-Tacoma international Airport\\nSeat Status\\nConfirmedArrival\\n15Aug2023\\n18:30\\nDUBAI\\nArriving DXB, Dubai International Airport\\nTerminal 3\\nCoupon validity:  not before 14Aug2023  /  not after 14Aug2023  Baggage 2Piece\\nLeg 2of2 | Dubai (DXB) toHyderabad  (HYD) | Operated by Emirates (equipment owner - Emirates)\\nFlight\\nEK524\\nEconomy\\nSaverCheck-in at\\n15Aug2023\\n19:00Departure\\n15Aug2023\\n22:00\\nDUBAI\\nDeparting DXB, Dubai International Airport\\nTerminal 3\\nSeat Status\\nConfirmedArrival\\n16Aug2023\\n03:05\\nHYDERABAD\\nArriving HYD, Rajiv Gandhi Airport\\nCoupon validity:  not before 15Aug2023  /  not after 15Aug2023  Baggage 2Piece\\n© Emirates. All rights reserved Emirates Experience  | Check-in Online  | Manage a Booking  | Baggage  | Contact us Page 1 of 3\""
      ]
     },
     "execution_count": 2,
     "metadata": {},
     "output_type": "execute_result"
    }
   ],
   "source": [
    "from parsers.pdf_parser import PDFParser\n",
    "parser = PDFParser()\n",
    "parser.parse(Path(\"../dataset/samples/EmiratesTicket1.pdf\"))"
   ]
  },
  {
   "cell_type": "code",
   "execution_count": 3,
   "metadata": {},
   "outputs": [
    {
     "data": {
      "text/plain": [
       "'GHYHOnNBEOWOO WX A132\\n< Oh Ae\\n\\nCastro Theatre\\n\\n4:45p 8:45p\\n\\n9) The Lady From Shanghai\\n\\n'"
      ]
     },
     "execution_count": 3,
     "metadata": {},
     "output_type": "execute_result"
    }
   ],
   "source": [
    "from parsers.image_parser import ImageParser\n",
    "image_parser = ImageParser()\n",
    "image_parser.parse(Path(\"../dataset/samples/14169.jpg\"))"
   ]
  },
  {
   "cell_type": "code",
   "execution_count": 4,
   "metadata": {},
   "outputs": [],
   "source": [
    "with open(\"../dataset/samples/web_links.txt\") as fp:\n",
    "    web_links = [line.strip().split() for line in fp.readlines()] "
   ]
  },
  {
   "cell_type": "code",
   "execution_count": 5,
   "metadata": {},
   "outputs": [
    {
     "data": {
      "text/plain": [
       "'50+ Indian Interior Design Ideas - The Architects DiaryArchitectureInterior designArticlesProductsE.BooksPublish Your WorkAbout UsContact UsTerm And ConditionsPrivacy PolicyCookie Policy50+ Indian Interior Design IdeasPosted On September 06 2017Total Post Views :-2382412345(101 Votes)50+ Indian Interior Design Ideas.Indian Interior Design is the output of amalgamation of various culture, celebration History, Art, Tradition across the country. The Indian Style Interior is evolution of most diversely rich heritage, here are 50 best examples to get inspired from :By the way, if you want a new wooden door for your home, here’s aguide on everything you need to know about wooden doors.Design Inspiration >>>100+\\xa0Jali Design IdeasDesign Inspiration >>>100+ Minimal yet Elegant Kitchen Design IdeasDesign Inspiration >>>10 World Map Poster Art for WallDesign Inspiration >>>50+ Green wall Design InspirationNote:THE ARCHITECT’S DIARY claims no credit for any images featured on this site unless othe'"
      ]
     },
     "execution_count": 5,
     "metadata": {},
     "output_type": "execute_result"
    }
   ],
   "source": [
    "from parsers.web_parser import WebParser\n",
    "web_parser = WebParser()\n",
    "web_parser.parse(web_links[0][0])\n"
   ]
  },
  {
   "cell_type": "code",
   "execution_count": null,
   "metadata": {},
   "outputs": [],
   "source": []
  }
 ],
 "metadata": {
  "kernelspec": {
   "display_name": "Python 3",
   "language": "python",
   "name": "python3"
  },
  "language_info": {
   "codemirror_mode": {
    "name": "ipython",
    "version": 3
   },
   "file_extension": ".py",
   "mimetype": "text/x-python",
   "name": "python",
   "nbconvert_exporter": "python",
   "pygments_lexer": "ipython3",
   "version": "3.11.3"
  },
  "orig_nbformat": 4
 },
 "nbformat": 4,
 "nbformat_minor": 2
}
